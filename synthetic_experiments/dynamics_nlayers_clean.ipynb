{
 "cells": [
  {
   "cell_type": "markdown",
   "metadata": {},
   "source": [
    "# GNN node feature dynamics analysis on number of layers\n",
    "- note: before using this code, you need to have checkpoints that are saved in the orgnaized folders as defined in train.py\n",
    "- i.e. need to run train.py (instructions can be found in the file train.py)"
   ]
  },
  {
   "cell_type": "code",
   "execution_count": null,
   "metadata": {},
   "outputs": [],
   "source": [
    "PATH = '/Users/jungyoonlee/Desktop/MAT6215-Project/experiments/ckpt_real_graph_clean'         # your checkpoint path"
   ]
  },
  {
   "cell_type": "code",
   "execution_count": null,
   "metadata": {},
   "outputs": [],
   "source": [
    "import numpy as np\n",
    "import matplotlib.pyplot as plt\n",
    "\n",
    "import torch \n",
    "from torch_geometric.utils import to_edge_index\n",
    "from sklearn.preprocessing import normalize\n",
    "\n",
    "from utils import load_full_data, rayleigh_quotient\n",
    "from models import GRAFFNet\n",
    "\n",
    "import os"
   ]
  },
  {
   "cell_type": "code",
   "execution_count": null,
   "metadata": {},
   "outputs": [],
   "source": [
    "def adj_to_edge_index(adj):\n",
    "    adj = torch.tensor(normalize(adj + torch.eye(adj.size(0))))\n",
    "    adj = adj.to_sparse()\n",
    "    edge_index, _ = to_edge_index(adj) \n",
    "    return edge_index\n",
    "\n",
    "def list_files_in_folder(folder_path):\n",
    "    files_list = []\n",
    "    for root, dirs, files in os.walk(folder_path):\n",
    "        for file in files:\n",
    "            files_list.append(os.path.join(root, file))\n",
    "    return files_list"
   ]
  },
  {
   "cell_type": "code",
   "execution_count": null,
   "metadata": {},
   "outputs": [],
   "source": [
    "def get_ckpt_files(dataset:str, model:str, nlayers:str, step_size:float, linear:bool):\n",
    "    if linear:\n",
    "        path = f'{PATH}/{dataset}/{model}/linear/ss_{step_size}/nl_{nlayers}'\n",
    "    else:\n",
    "        path = f'{PATH}/{dataset}/{model}/act_tanh/ss_{step_size}/nl_{nlayers}'\n",
    "    files = list_files_in_folder(path)\n",
    "    target_files = sorted([f for f in files])\n",
    "    print(target_files)\n",
    "    return target_files\n",
    "\n",
    "def get_model_bytype(features_dict, labels_dict, model:str, dataset:str, step_size:float, linear:bool):\n",
    "    model = GRAFFNet(features_dict[dataset].size(1), 32, labels_dict[dataset].max()+1, \n",
    "                      step_size=step_size, model_type=model, linear=linear)\n",
    "    return model\n",
    "\n",
    "def get_trained_model_bytype(features_dict, labels_dict, model_type:str, dataset:str, nlayers:int, step_size: float, linear:bool, ckpt_files:list = None, single_model:bool = True):\n",
    "    if ckpt_files is None:\n",
    "        ckpt_files = get_ckpt_files(dataset, model_type, nlayers, step_size, linear)\n",
    "    if len(ckpt_files) > 1 and single_model == False:\n",
    "        models = [get_model_bytype(features_dict, labels_dict, model_type, dataset, step_size, linear) for _ in range(len(ckpt_files))]\n",
    "        for model, ckpt in zip(models, ckpt_files):\n",
    "            model.load_state_dict(torch.load(ckpt, map_location='cpu')['model_state_dict'])\n",
    "    else:\n",
    "        model = get_model_bytype(features_dict, labels_dict, model_type, dataset, step_size, linear)\n",
    "        model.load_state_dict(torch.load(ckpt_files[0], map_location='cpu')['model_state_dict'])    \n",
    "        return model"
   ]
  },
  {
   "cell_type": "code",
   "execution_count": null,
   "metadata": {},
   "outputs": [],
   "source": [
    "def layer_sweep(model, edge_index, feat, \n",
    "                num_steps=60, hidden_states=32, linear_model=True, step_size_override=None):\n",
    "    if step_size_override:\n",
    "        model.step_size = step_size_override\n",
    "\n",
    "    s0_rq_dict = {}\n",
    "    s1_rq_dict = {}      \n",
    "\n",
    "    init_rq = rayleigh_quotient(edge_index, feat.size(0), feat)\n",
    "    s1_rq_dict[0] = init_rq\n",
    "    S = torch.zeros(size=(num_steps, feat.size(0), hidden_states))  # states\n",
    "    S[0,:,:] = model.enc(feat)          \n",
    "    for num_step in range(num_steps-1):\n",
    "        if linear_model:\n",
    "            S[num_step+1,:,:] = S[num_step,:,:] + model.step_size * (model.conv(S[num_step,:,:], edge_index, S[0,:,:]))\n",
    "        else:\n",
    "            S[num_step+1,:,:] = S[num_step,:,:] + model.step_size * torch.nn.functional.tanh(model.conv(S[num_step,:,:], \n",
    "                                                                                        edge_index, S[0,:,:]))\n",
    "        s1_rq = rayleigh_quotient(edge_index, feat.size(0), S[num_step+1,:,:])\n",
    "        s1_rq_dict[num_step+1] = s1_rq.detach().cpu().item()\n",
    "\n",
    "    print(\"Done with sweep\")\n",
    "    return s0_rq_dict, s1_rq_dict"
   ]
  },
  {
   "cell_type": "markdown",
   "metadata": {},
   "source": [
    "### Load Edge/Feature/Labels for each Dataset for easier usage"
   ]
  },
  {
   "cell_type": "code",
   "execution_count": null,
   "metadata": {},
   "outputs": [],
   "source": [
    "edge_dict = {}\n",
    "features_dict = {}\n",
    "labels_dict = {}\n",
    "\n",
    "for dataset in ['cora', 'citeseer', 'pubmed',\n",
    "                'texas','wisconsin','cornell',\n",
    "                'film', 'chameleon', 'squirrel']: \n",
    "    adj, _, feat, label = load_full_data(dataset)\n",
    "    edge_dict[dataset] = adj.coalesce().indices()\n",
    "    features_dict[dataset] = feat\n",
    "    labels_dict[dataset] = label"
   ]
  },
  {
   "cell_type": "markdown",
   "metadata": {},
   "source": [
    "### Analysis by Model Types"
   ]
  },
  {
   "cell_type": "code",
   "execution_count": null,
   "metadata": {},
   "outputs": [],
   "source": [
    "def plot_per_model(model='graffgcn', num_steps = 60, step_size_override = 0.1, dict_exists:bool=False, ax=None):\n",
    "        \n",
    "    layer_interval=list(range(num_steps))\n",
    "    \n",
    "    if dict_exists:\n",
    "        plt.plot(layer_interval, s1_rq_cora[model].values(), label='Cora')\n",
    "        plt.plot(layer_interval, s1_rq_citeseer[model].values(), label='Citeseer')\n",
    "        plt.plot(layer_interval, s1_rq_squirrel[model].values(), label='Squirrel')\n",
    "        plt.plot(layer_interval, s1_rq_chameleon[model].values(), label='Chameleon')\n",
    "\n",
    "    else:\n",
    "        model_cora = get_trained_model_bytype(features_dict, labels_dict, model, 'cora', 60, step_size_override, True)\n",
    "        model_citeseer = get_trained_model_bytype(features_dict, labels_dict, model, 'citeseer', 60, step_size_override, True)\n",
    "        model_texas = get_trained_model_bytype(features_dict, labels_dict, model, 'texas', 60, step_size_override, True)\n",
    "        model_wisconsin = get_trained_model_bytype(features_dict, labels_dict, model, 'wisconsin', 60, step_size_override, True)\n",
    "        model_cornell = get_trained_model_bytype(features_dict, labels_dict, model, 'cornell', 60, step_size_override, True)\n",
    "        model_film = get_trained_model_bytype(features_dict, labels_dict, model, 'film', 60, step_size_override, True)\n",
    "        model_squirrel =  get_trained_model_bytype(features_dict, labels_dict, model, 'squirrel', 60, step_size_override, True)\n",
    "        model_chameleon = get_trained_model_bytype(features_dict, labels_dict, model, 'chameleon', 60, step_size_override, True)\n",
    "\n",
    "        _, s1_rq_cora = layer_sweep(model_cora, edge_dict['cora'], features_dict['cora'], \n",
    "                                    num_steps=num_steps, linear_model=model_cora.linear, step_size_override=step_size_override)\n",
    "        _, s1_rq_citeseer = layer_sweep(model_citeseer, edge_dict['citeseer'], features_dict['citeseer'], \n",
    "                                    num_steps=num_steps, linear_model=model_citeseer.linear, step_size_override=step_size_override)\n",
    "        _, s1_rq_texas = layer_sweep(model_texas, edge_dict['texas'], features_dict['texas'],\n",
    "                                    num_steps=num_steps, linear_model=model_texas.linear, step_size_override=step_size_override)\n",
    "        _, s1_rq_wisconsin = layer_sweep(model_wisconsin, edge_dict['wisconsin'], features_dict['wisconsin'],\n",
    "                                    num_steps=num_steps, linear_model=model_wisconsin.linear, step_size_override=step_size_override)      \n",
    "        _, s1_rq_cornell = layer_sweep(model_cornell, edge_dict['cornell'], features_dict['cornell'],\n",
    "                                    num_steps=num_steps, linear_model=model_cornell.linear, step_size_override=step_size_override)\n",
    "        _, s1_rq_film = layer_sweep(model_film, edge_dict['film'], features_dict['film'],\n",
    "                                    num_steps=num_steps, linear_model=model_film.linear, step_size_override=step_size_override)  \n",
    "        _, s1_rq_chameleon = layer_sweep(model_chameleon , edge_dict['chameleon'], features_dict['chameleon'], \n",
    "                                    num_steps=num_steps, linear_model=model_chameleon.linear, step_size_override=step_size_override)\n",
    "        _, s1_rq_squirrel = layer_sweep(model_squirrel, edge_dict['squirrel'], features_dict['squirrel'], \n",
    "                                    num_steps=num_steps, linear_model=model_squirrel.linear, step_size_override=step_size_override)\n",
    "        \n",
    "        if ax is not None:\n",
    "            ax.plot(layer_interval, s1_rq_cora.values(), label='Cora')\n",
    "            ax.plot(layer_interval, s1_rq_citeseer.values(), label='Citeseer')\n",
    "            ax.plot(layer_interval, s1_rq_squirrel.values(), label='Squirrel')\n",
    "            ax.plot(layer_interval, s1_rq_chameleon.values(), label='Chameleon')\n",
    "            ax.plot(layer_interval, s1_rq_texas.values(), label='Texas')\n",
    "            ax.plot(layer_interval, s1_rq_wisconsin.values(), label='Wisconsin')\n",
    "            ax.plot(layer_interval, s1_rq_cornell.values(), label='Cornell')\n",
    "            ax.plot(layer_interval, s1_rq_film.values(), label='Film')\n",
    "\n",
    "        else:\n",
    "            plt.plot(layer_interval, s1_rq_cora.values(), label='Cora')\n",
    "            plt.plot(layer_interval, s1_rq_citeseer.values(), label='Citeseer')\n",
    "            plt.plot(layer_interval, s1_rq_squirrel.values(), label='Squirrel')\n",
    "            plt.plot(layer_interval, s1_rq_chameleon.values(), label='Chameleon')\n",
    "            plt.plot(layer_interval, s1_rq_texas.values(), label='Texas')\n",
    "            plt.plot(layer_interval, s1_rq_wisconsin.values(), label='Wisconsin')\n",
    "            plt.plot(layer_interval, s1_rq_cornell.values(), label='Cornell')\n",
    "            plt.plot(layer_interval, s1_rq_film.values(), label='Film')\n",
    "\n",
    "            # Adding labels and legend\n",
    "            plt.xlabel('Num Layers')\n",
    "            plt.ylabel('RQ')\n",
    "            plt.legend(loc='upper center', bbox_to_anchor=(0.5, -0.1), \n",
    "                    fancybox=True, shadow=True, ncol=2, fontsize=9)"
   ]
  },
  {
   "cell_type": "markdown",
   "metadata": {},
   "source": [
    "### Plotting with different step sizes"
   ]
  },
  {
   "cell_type": "code",
   "execution_count": null,
   "metadata": {},
   "outputs": [],
   "source": [
    "num_steps=60\n",
    "step_sizes = [0.01, 0.1, 0.5]"
   ]
  },
  {
   "cell_type": "markdown",
   "metadata": {},
   "source": [
    "#### Linear GCN"
   ]
  },
  {
   "cell_type": "code",
   "execution_count": null,
   "metadata": {},
   "outputs": [],
   "source": [
    "fig, axs = plt.subplots(1, 3, figsize=(12, 4))\n",
    "\n",
    "# Call plot_per_model for each subplot\n",
    "plot_per_model(model='graffgcn', num_steps=num_steps, step_size_override=step_sizes[0], ax=axs[0])\n",
    "plot_per_model(model='graffgcn', num_steps=num_steps, step_size_override=step_sizes[1], ax=axs[1])\n",
    "plot_per_model(model='graffgcn', num_steps=num_steps, step_size_override=step_sizes[2], ax=axs[2])\n",
    "\n",
    "# Set titles for each subplot\n",
    "axs[0].set_title(f'step size {step_sizes[0]}')\n",
    "axs[1].set_title(f'step size {step_sizes[1]}')\n",
    "axs[2].set_title(f'step size {step_sizes[2]}')\n",
    "\n",
    "# Set xlabel, ylabel, and legend for each axes\n",
    "for ax in axs:\n",
    "    ax.set_xlabel('Num Layers')\n",
    "    ax.set_ylabel('RQ')\n",
    "\n",
    "axs[0].legend(loc='upper center', bbox_to_anchor=(0.5, -0.18), fancybox=True, shadow=True, ncol=2, fontsize=9)\n",
    "\n",
    "# Adjust spacing between subplots\n",
    "plt.tight_layout()\n",
    "plt.show()"
   ]
  },
  {
   "cell_type": "code",
   "execution_count": null,
   "metadata": {},
   "outputs": [],
   "source": []
  },
  {
   "cell_type": "code",
   "execution_count": null,
   "metadata": {},
   "outputs": [],
   "source": []
  }
 ],
 "metadata": {
  "anaconda-cloud": {},
  "kernelspec": {
   "display_name": "Python 3 (ipykernel)",
   "language": "python",
   "name": "python3"
  },
  "language_info": {
   "codemirror_mode": {
    "name": "ipython",
    "version": 3
   },
   "file_extension": ".py",
   "mimetype": "text/x-python",
   "name": "python",
   "nbconvert_exporter": "python",
   "pygments_lexer": "ipython3",
   "version": "3.10.13"
  }
 },
 "nbformat": 4,
 "nbformat_minor": 1
}
